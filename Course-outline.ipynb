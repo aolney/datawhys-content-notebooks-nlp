{
 "cells": [
  {
   "cell_type": "markdown",
   "metadata": {},
   "source": [
    "# Modules\n",
    "\n",
    "- Text as data  \n",
    "    - [Text-as-data.ipynb](Text-as-data.ipynb)\n",
    "- Preprocessing text\n",
    "    - [Preprocessing-text.ipynb](Preprocessing-text.ipynb)\n",
    "    - [Preprocessing-text-PS.ipynb](Preprocessing-text-PS.ipynb)\n",
    "- Descriptive statistics: length-based metrics\n",
    "    - [Descriptive-statistics-length](Descriptive-statistics-length.ipynb)\n",
    "    - [Descriptive-statistics-length-PS](Descriptive-statistics-length-PS.ipynb)\n",
    "- Descriptive statistics: distribution-based metrics\n",
    "    - [Descriptive-statistics-distribution](Descriptive-statistics-distribution.ipynb)\n",
    "    - [Descriptive-statistics-distribution-PS](Descriptive-statistics-distribution-PS.ipynb)\n",
    "  \n",
    "<div class=\"alert alert-danger\">\n",
    "    \n",
    "**Draft status... TODO add modules as they are completed.**\n",
    "    \n",
    "</div>\n"
   ]
  },
  {
   "cell_type": "markdown",
   "metadata": {},
   "source": [
    "<!-- Examples for internal links: https://medium.com/3blades-blog/jupyter-notebook-little-known-tricks-b0866a558017 -->"
   ]
  },
  {
   "cell_type": "code",
   "execution_count": null,
   "metadata": {},
   "outputs": [],
   "source": []
  }
 ],
 "metadata": {
  "kernelspec": {
   "display_name": "Python 3",
   "language": "python",
   "name": "python3"
  },
  "language_info": {
   "codemirror_mode": {
    "name": "ipython",
    "version": 3
   },
   "file_extension": ".py",
   "mimetype": "text/x-python",
   "name": "python",
   "nbconvert_exporter": "python",
   "pygments_lexer": "ipython3",
   "version": "3.7.5"
  }
 },
 "nbformat": 4,
 "nbformat_minor": 5
}
