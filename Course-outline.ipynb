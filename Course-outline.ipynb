{
 "cells": [
  {
   "cell_type": "markdown",
   "id": "84e045e5",
   "metadata": {},
   "source": [
    "# Modules\n",
    "\n",
    "- Text as data  \n",
    "    - [Text-as-data.ipynb](Text-as-data.ipynb)\n",
    "- Preprocessing text\n",
    "    - [Preprocessing-text.ipynb](Preprocessing-text.ipynb)\n",
    "    - [Preprocessing-text-PS.ipynb](Preprocessing-text-PS.ipynb)\n",
    "- Descriptive statistics: length-based metrics\n",
    "    - [Descriptive-statistics-length](Descriptive-statistics-length.ipynb)\n",
    "    - [Descriptive-statistics-length-PS](Descriptive-statistics-length-PS.ipynb)\n",
    "- Descriptive statistics: distribution-based metrics\n",
    "    - [Descriptive-statistics-distribution](Descriptive-statistics-distribution.ipynb)\n",
    "    - [Descriptive-statistics-distribution-PS](Descriptive-statistics-distribution-PS.ipynb)\n",
    "- Vectorization and weighting\n",
    "    - [Vectorization-weighting](Vectorization-weighting.ipynb)\n",
    "    - [Vectorization-weighting-PS](Vectorization-weighting-PS.ipynb)\n",
    "- Single word transformations\n",
    "    - [Single-word-transformations](Single-word-transformations.ipynb)\n",
    "<!--     - [Single-word-transformations-PS](Single-word-transformations-PS.ipynb) -->\n",
    "- Multi-word transformations\n",
    "    - [Multiword-transformations](Multiword-transformations.ipynb)\n",
    "<!--     - [Multiword-transformations-PS](Multiword-transformations-PS.ipynb) -->\n",
    "- Latent variable vectorization\n",
    "    - [Latent-variable-vectorization](Latent-variable-vectorization.ipynb)\n",
    "<!--     - [Latent-variable-vectorization-PS](Latent-variable-vectorization-PS.ipynb) -->"
   ]
  },
  {
   "cell_type": "markdown",
   "id": "1f3cbce2",
   "metadata": {},
   "source": [
    "<!-- Examples for internal links: https://medium.com/3blades-blog/jupyter-notebook-little-known-tricks-b0866a558017 -->"
   ]
  }
 ],
 "metadata": {
  "kernelspec": {
   "display_name": "Python 3",
   "language": "python",
   "name": "python3"
  },
  "language_info": {
   "codemirror_mode": {
    "name": "ipython",
    "version": 3
   },
   "file_extension": ".py",
   "mimetype": "text/x-python",
   "name": "python",
   "nbconvert_exporter": "python",
   "pygments_lexer": "ipython3",
   "version": "3.7.12"
  }
 },
 "nbformat": 4,
 "nbformat_minor": 5
}
