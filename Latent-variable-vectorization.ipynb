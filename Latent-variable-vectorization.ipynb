{
 "cells": [
  {
   "cell_type": "markdown",
   "metadata": {
    "deletable": false,
    "editable": false
   },
   "source": [
    "Copyright 2021 Andrew M. Olney and made available under [CC BY-SA](https://creativecommons.org/licenses/by-sa/4.0) for text and [Apache-2.0](http://www.apache.org/licenses/LICENSE-2.0) for code."
   ]
  },
  {
   "cell_type": "markdown",
   "metadata": {},
   "source": [
    "# Vectorization and weighting\n",
    "\n",
    "Transforming text into a distribution is useful for descriptive statistics, but it is also very useful for getting *features* from text that you can use in predictive models.\n",
    "Because these features come from a distribution, they are ultimately based on **counts**.\n",
    "As we have seen, frequent words with high counts are not necessarily good features, so it is common to further transform counts using **weights**."
   ]
  },
  {
   "cell_type": "markdown",
   "metadata": {},
   "source": [
    "## What you will learn\n",
    "\n",
    "You will learn about how distributions of text can be used to generate features for predictive models.\n",
    "  \n",
    "We will cover:\n",
    "\n",
    "- Vectorization\n",
    "- tf-idf"
   ]
  },
  {
   "cell_type": "markdown",
   "metadata": {},
   "source": [
    "## When to use vectorization and weighting\n",
    "\n",
    "Vectorization followed by weighting produces useful simple features. \n",
    "Creating a model with vectorized text features can be a good first model, or baseline, as you consider additional more complex features.\n",
    "You can build remarkably performant models for many applications using only vectorized text."
   ]
  },
  {
   "cell_type": "markdown",
   "metadata": {},
   "source": [
    "## Vectorization\n",
    "\n",
    "Let's look at `tabulate` again, but this time with artificially small texts so the output fits in Jupyter.\n",
    "\n",
    "Start by importing `nltk`:\n",
    "\n",
    "- `import nltk as nltk`"
   ]
  },
  {
   "cell_type": "code",
   "execution_count": 1,
   "metadata": {},
   "outputs": [],
   "source": [
    "import nltk as nltk\n",
    "\n",
    "#<xml xmlns=\"https://developers.google.com/blockly/xml\"><variables><variable id=\"Wer,Q4C`j@I;1xVaLJBR\">nltk</variable></variables><block type=\"importAs\" id=\"BTn3GreO!LDoBjfD3-7R\" x=\"16\" y=\"10\"><field name=\"libraryName\">nltk</field><field name=\"libraryAlias\" id=\"Wer,Q4C`j@I;1xVaLJBR\">nltk</field></block></xml>"
   ]
  }
 ],
 "metadata": {
  "kernelspec": {
   "display_name": "Python 3.7 (XPython)",
   "language": "python",
   "name": "xpython"
  },
  "language_info": {
   "file_extension": ".py",
   "mimetype": "text/x-python",
   "name": "python",
   "version": "3.7.12"
  }
 },
 "nbformat": 4,
 "nbformat_minor": 4
}
